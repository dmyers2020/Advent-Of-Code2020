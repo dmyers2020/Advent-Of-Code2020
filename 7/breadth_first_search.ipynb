{
 "cells": [
  {
   "cell_type": "code",
   "execution_count": 3,
   "id": "decreased-fairy",
   "metadata": {},
   "outputs": [],
   "source": [
    "import collections\n",
    "'''\n",
    "initialize a class to explore DFS\n",
    "'''\n",
    "class Tree_Node:\n",
    "    def __init__(self,root_value,children_nodes):\n",
    "        self.value = root_value\n",
    "        self.children = children_nodes\n",
    "        '''\n",
    "Breadth First Search function\n",
    "takes in a Root_Node\n",
    "traverses the children of that root according to \n",
    "the BFS algo\n",
    "'''\n",
    "def bfs(Root_Node):\n",
    "    '''\n",
    "dequeue() [DOUBLY ENDED QUEUE] \n",
    "is like a list indexed in both directions; which\n",
    "makes it easier to add/delete values \n",
    "because you can traverse the list from either direction\n",
    "append() appendleft() pop() popleft()\n",
    "\n",
    "*****note that pop - does what it says; it pops the value out, so you can USE it (assign to a var)\n",
    "\n",
    "    '''    \n",
    "    queue = collections.deque() #create an empty doubly ended queue\n",
    "    queue.append(Root_Node.value) # add the input to the function to the queue\n",
    "    \n",
    "    while queue: #while the list is not empty (we're gonna be popping)\n",
    "        node_value = queue.popleft() #set the node_value as the first entry in the queue\n",
    "        print(node_value)\n",
    "        children_nodes = nodes_dic[node_value]\n",
    "        \n",
    "        for i in children_nodes:\n",
    "            if i == None: #if your at a leaf (a node that has no children)\n",
    "                continue #don't throw an error - instead; just run again\n",
    "            queue.append(i)\n",
    "        \n",
    "\n",
    "'''\n",
    "lets now create a tree to traverse (using a dictionary)\n",
    "'''\n",
    "\n",
    "nodes_dic = {\"A\":[\"B\",\"C\"],\n",
    "             \"B\":[\"D\",\"E\"],\n",
    "              \"C\":[\"F\",\"G\"],\n",
    "              \"D\":[None],\n",
    "              \"E\":[\"H\",\"I\"],\n",
    "              \"F\":[None],\n",
    "              \"G\":[\"J\",None],\n",
    "              \"H\":[None],\n",
    "              \"I\":[None],\n",
    "              \"J\":[None]\n",
    "            }\n",
    "\n",
    "'''\n",
    "create an object of the root node class \n",
    "initialize it with the first item in the dictionary\n",
    "'''\n",
    "root_node_value = next(iter(nodes_dic.keys())) #iterate thru the dictionary keys\n",
    "root_node_children = next(iter(nodes_dic.values())) #iterate through the values\n",
    "root_node = Tree_Node(root_node_value,root_node_children) #create a roote node object using the key:value pair"
   ]
  },
  {
   "cell_type": "code",
   "execution_count": 5,
   "id": "dried-bleeding",
   "metadata": {},
   "outputs": [
    {
     "name": "stdout",
     "output_type": "stream",
     "text": [
      "A\n",
      "B\n",
      "C\n",
      "D\n",
      "E\n",
      "F\n",
      "G\n",
      "H\n",
      "I\n",
      "J\n"
     ]
    }
   ],
   "source": [
    "bfs(root_node)"
   ]
  },
  {
   "cell_type": "raw",
   "id": "compressed-builder",
   "metadata": {},
   "source": []
  },
  {
   "cell_type": "code",
   "execution_count": null,
   "id": "nonprofit-driving",
   "metadata": {},
   "outputs": [],
   "source": []
  },
  {
   "cell_type": "code",
   "execution_count": null,
   "id": "empirical-column",
   "metadata": {},
   "outputs": [],
   "source": []
  },
  {
   "cell_type": "code",
   "execution_count": null,
   "id": "sudden-belle",
   "metadata": {},
   "outputs": [],
   "source": []
  }
 ],
 "metadata": {
  "kernelspec": {
   "display_name": "Python 3",
   "language": "python",
   "name": "python3"
  },
  "language_info": {
   "codemirror_mode": {
    "name": "ipython",
    "version": 3
   },
   "file_extension": ".py",
   "mimetype": "text/x-python",
   "name": "python",
   "nbconvert_exporter": "python",
   "pygments_lexer": "ipython3",
   "version": "3.8.1"
  }
 },
 "nbformat": 4,
 "nbformat_minor": 5
}
